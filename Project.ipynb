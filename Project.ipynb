{
 "cells": [
  {
   "cell_type": "code",
   "execution_count": 706,
   "id": "a09c2b87",
   "metadata": {},
   "outputs": [],
   "source": [
    "import numpy as np\n",
    "import matplotlib.pyplot as plt\n",
    "\n",
    "#Maximize f1 and f2\n",
    "def objective_function(x):\n",
    "    # Calculate the objective function values for a given solution x\n",
    "    f1 = x[0]**2 + x[1]**2\n",
    "    f2 = (x[0] - 5)**2 + (x[1] - 5)**2\n",
    "    return (f1, f2)\n",
    "\n",
    "def initialize_population(n, bounds):\n",
    "    # Generate n random solutions within the given bounds\n",
    "    population = []\n",
    "    for i in range(n):\n",
    "        x = np.random.uniform(bounds[0], bounds[1], size=2)\n",
    "        population.append(x)\n",
    "    return population\n",
    "\n",
    "def evolve(population, bounds, max_evaluations):\n",
    "    # Evolve the population using a multi-objective evolutionary algorithm\n",
    "    num_evaluations = 0\n",
    "    while num_evaluations < max_evaluations:\n",
    "        # Select two parents using tournament selection\n",
    "        parent1 = tournament_selection(population)\n",
    "        parent2 = tournament_selection(population)\n",
    "        \n",
    "        # Perform crossover to produce two offspring\n",
    "        offspring1, offspring2 = crossover(parent1, parent2, bounds)\n",
    "        \n",
    "        # Perform mutation on the offspring\n",
    "        offspring1 = mutate(offspring1, bounds)\n",
    "        offspring2 = mutate(offspring2, bounds)\n",
    "        \n",
    "        # Evaluate the objective function for the offspring\n",
    "        f1, f2 = objective_function(offspring1)\n",
    "        num_evaluations += 1\n",
    "        offspring1_fitness = (f1, f2)\n",
    "        \n",
    "        f1, f2 = objective_function(offspring2)\n",
    "        num_evaluations += 1\n",
    "        offspring2_fitness = (f1, f2)\n",
    "        \n",
    "        # Update the population using non-dominated sorting\n",
    "        population = update_population(population, offspring1, offspring1_fitness, offspring2, offspring2_fitness)\n",
    "        \n",
    "    # Return the final population\n",
    "    return population\n",
    "\n",
    "def tournament_selection(population):\n",
    "    # Select a solution from the population using tournament selection\n",
    "    # (randomly choose two solutions and return the better one)\n",
    "    x1 = population[np.random.randint(len(population))]\n",
    "    x2 = population[np.random.randint(len(population))]\n",
    "    f1, f2 = objective_function(x1)\n",
    "    g1, g2 = objective_function(x2)\n",
    "    if dominates(f1, f2, g1, g2):\n",
    "        return x1\n",
    "    elif dominates(g1, g2, f1, f2):\n",
    "        return x2\n",
    "    else:\n",
    "        return x1 if np.random.uniform() < 0.5 else x2\n",
    "\n",
    "def crossover(x1, x2, bounds):\n",
    "    # Perform crossover to produce two offspring\n",
    "    alpha = np.random.uniform(0, 1, size=2)\n",
    "    offspring1 = alpha*x1 + (1-alpha)*x2\n",
    "    offspring2 = alpha*x2 + (1-alpha)*x1\n",
    "    offspring1 = np.clip(offspring1, bounds[0], bounds[1])\n",
    "    offspring2 = np.clip(offspring2,bounds[0], bounds[1])\n",
    "    return (offspring1, offspring2)\n",
    "\n",
    "def mutate(x, bounds):\n",
    "# Perform mutation on a solution\n",
    "    x = x + np.random.normal(0, 0.1, size=2)\n",
    "    x = np.clip(x, bounds[0], bounds[1])\n",
    "    return x\n",
    "\n",
    "def update_population(population, offspring1, offspring1_fitness, offspring2, offspring2_fitness):\n",
    "    # Update the population using non-dominated sorting\n",
    "    new_population = []\n",
    "    for x in population:\n",
    "        f1, f2 = objective_function(x)\n",
    "        if not dominates(offspring1_fitness[0], offspring1_fitness[1], f1, f2) and not dominates(f1, f2, offspring1_fitness[0], offspring1_fitness[1]):\n",
    "            new_population.append(x)\n",
    "    if not dominates(offspring1_fitness[0], offspring1_fitness[1], offspring2_fitness[0], offspring2_fitness[1]):\n",
    "        new_population.append(offspring1)\n",
    "    if not dominates(offspring2_fitness[0], offspring2_fitness[1], offspring1_fitness[0], offspring1_fitness[1]):\n",
    "        new_population.append(offspring2)\n",
    "    return new_population\n",
    "\n",
    "def dominates(f1, f2, g1, g2):\n",
    "# Check if solution x dominates solution y\n",
    "    return (f1 < g1 and f2 <= g2) or (f1 <= g1 and f2 < g2)\n",
    "\n",
    "# Set the number of generating solutions on the initial set\n",
    "num_generating = 30000;\n",
    "\n",
    "#Set the number of evaluations for initialization\n",
    "#num_evaluations_for_initialization = (num_total - num_generating) / 10\n",
    "#print(num_evaluations_for_initialization)\n",
    "num_evaluations_for_initialization =1000\n",
    "\n",
    "#Set the bounds for the decision variables\n",
    "bounds = (-10, 10)\n",
    "\n",
    "#Print the final population\n",
    "#print(final_population)\n",
    "\n",
    "#This code defines a MOEA that uses tournament selection, crossover, and mutation to evolve a population of solutions.\n",
    "#The user can specify the number of evaluations to be used for initialization by setting the `num_evaluations_for_initialization` variable. \n",
    "#The initial population is generated using the `initialize_population` function, which generates random solutions within the given bounds. \n",
    "#The MOEA is then run using the `evolve` function, which performs the optimization process and returns the final population of solutions."
   ]
  },
  {
   "cell_type": "code",
   "execution_count": 715,
   "id": "1cf67b7a",
   "metadata": {},
   "outputs": [
    {
     "name": "stderr",
     "output_type": "stream",
     "text": [
      "E:\\Anaconda\\lib\\site-packages\\deap\\creator.py:138: RuntimeWarning: A class named 'FitnessMax' has already been created and it will be overwritten. Consider deleting previous creation of that class or rename it.\n",
      "  warnings.warn(\"A class named '{0}' has already been created and it \"\n",
      "E:\\Anaconda\\lib\\site-packages\\deap\\creator.py:138: RuntimeWarning: A class named 'Individual' has already been created and it will be overwritten. Consider deleting previous creation of that class or rename it.\n",
      "  warnings.warn(\"A class named '{0}' has already been created and it \"\n"
     ]
    },
    {
     "name": "stdout",
     "output_type": "stream",
     "text": [
      "gen\tnevals\n",
      "0  \t0     \n",
      "1  \t634   \n",
      "2  \t572   \n",
      "3  \t607   \n",
      "4  \t583   \n",
      "5  \t624   \n",
      "6  \t597   \n",
      "7  \t647   \n",
      "8  \t583   \n",
      "9  \t597   \n",
      "10 \t609   \n",
      "11 \t624   \n",
      "12 \t603   \n",
      "13 \t609   \n",
      "14 \t592   \n",
      "15 \t587   \n",
      "16 \t621   \n",
      "17 \t576   \n",
      "18 \t599   \n",
      "19 \t605   \n",
      "20 \t627   \n",
      "21 \t591   \n",
      "22 \t597   \n",
      "23 \t564   \n",
      "24 \t596   \n",
      "25 \t581   \n",
      "26 \t589   \n",
      "27 \t612   \n",
      "28 \t571   \n",
      "29 \t603   \n",
      "30 \t548   \n",
      "31 \t579   \n",
      "32 \t608   \n",
      "33 \t606   \n",
      "34 \t607   \n",
      "35 \t604   \n",
      "36 \t588   \n",
      "37 \t611   \n",
      "38 \t635   \n",
      "39 \t615   \n",
      "40 \t572   \n",
      "41 \t622   \n",
      "42 \t603   \n",
      "43 \t588   \n",
      "44 \t620   \n",
      "45 \t598   \n",
      "46 \t581   \n",
      "47 \t598   \n",
      "48 \t585   \n",
      "49 \t614   \n",
      "50 \t603   \n"
     ]
    }
   ],
   "source": [
    "# Function for initial search\n",
    "from deap import base\n",
    "from deap import creator\n",
    "from deap import tools\n",
    "from deap import algorithms\n",
    "import random\n",
    "\n",
    "# Set the number of search better solutions on the initial set\n",
    "num_search = 1000;\n",
    "\n",
    "# Define the optimization problem\n",
    "def evaluate(individual):\n",
    "    f1 = individual[0]**2 + individual[1]**2\n",
    "    f2 = (individual[0] - 5)**2 + (individual[1] - 5)**2\n",
    "    return f1, f2\n",
    "\n",
    "# Set up the optimization algorithm\n",
    "creator.create(\"FitnessMax\", base.Fitness, weights=(1.0, 1.0))\n",
    "creator.create(\"Individual\", list, fitness=creator.FitnessMax)\n",
    "\n",
    "# Initialize the toolbox\n",
    "toolbox = base.Toolbox()\n",
    "toolbox.register(\"attr_float\", np.random.random)\n",
    "toolbox.register(\"individual\", tools.initRepeat, creator.Individual,\n",
    "                toolbox.attr_float, n=2)\n",
    "toolbox.register(\"population\", tools.initRepeat, list, toolbox.individual)\n",
    "toolbox.register(\"evaluate\", evaluate)\n",
    "toolbox.register(\"mate\", tools.cxTwoPoint)\n",
    "toolbox.register(\"mutate\", tools.mutGaussian, mu=0, sigma=1, indpb=0.1)\n",
    "toolbox.register(\"select\", tools.selTournament, tournsize=3)\n",
    "\n",
    "# Set the number of initial solutions to generate\n",
    "num_initial_solutions = 10000\n",
    "#print(initial_solutions)\n",
    "# Generate a large number of initial solutions\n",
    "initial_solutions = toolbox.population(n=num_initial_solutions)\n",
    "\n",
    "# Evaluate the initial solutions\n",
    "fitnesses = list(map(toolbox.evaluate, initial_solutions))\n",
    "for ind, fit in zip(initial_solutions, fitnesses):\n",
    "    ind.fitness.values = fit\n",
    "\n",
    "# Select the best N solutions from the initial population to form the final initial population\n",
    "N = 1000\n",
    "final_initial_population = tools.selBest(initial_solutions, N)\n",
    "\n",
    "# Run the optimization algorithm using the final initial population\n",
    "result = algorithms.eaSimple(final_initial_population, toolbox, cxpb=0.5, mutpb=0.2, ngen=50)\n",
    "\n",
    "\n",
    "# Extract the best solution from the result\n",
    "best_population = result[0]\n",
    "\n"
   ]
  },
  {
   "cell_type": "code",
   "execution_count": 692,
   "id": "596b0ccd",
   "metadata": {},
   "outputs": [],
   "source": [
    "import random\n",
    "\n",
    "# Set the bounds for the search space\n",
    "bounds = [(-10, 10), (-10, 10)]\n",
    "\n",
    "# Set the number of initial solutions to generate\n",
    "num_solutions = 100000\n",
    "\n",
    "# Initialize the population\n",
    "population = []\n",
    "\n",
    "# Generate the initial solutions\n",
    "for i in range(num_solutions):\n",
    "  # Generate a random solution within the bounds\n",
    "  solution = [random.uniform(bounds[i][0], bounds[i][1]) for i in range(len(bounds))]\n",
    "  \n",
    "  # Evaluate the objective functions\n",
    "  f1 = solution[0]**2 + solution[1]**2\n",
    "  f2 = (solution[0] - 5)**2 + (solution[1] - 5)**2\n",
    "  \n",
    "  # Add the solution and its objective function values to the population\n",
    "  population.append((solution, [f1, f2]))\n",
    "\n",
    "# Sort the population by the first objective (f1)\n",
    "population.sort(key = lambda x: x[1][0])\n",
    "\n",
    "# Take the top N solutions to form the initial search population\n",
    "N = 10000\n",
    "initial_population = []\n",
    "temp = len(population) - 1\n",
    "\n",
    "while(temp > 0 and N > 0):\n",
    "    initial_population.append(population[temp][0])\n",
    "    temp = temp - 1\n",
    "    N = N - 1"
   ]
  },
  {
   "cell_type": "code",
   "execution_count": 718,
   "id": "90f013c0",
   "metadata": {},
   "outputs": [
    {
     "name": "stdout",
     "output_type": "stream",
     "text": [
      "30000\n"
     ]
    }
   ],
   "source": [
    "#Generate the initial population\n",
    "#population = initial_population\n",
    "#population = best_population\n",
    "population = initialize_population(num_generating, bounds)\n",
    "print(len(population))\n",
    "\n",
    "\n",
    "\n",
    "#Evolve the population\n",
    "final_population = evolve(population, bounds, num_evaluations_for_initialization)\n",
    "#final_population = best_population"
   ]
  },
  {
   "cell_type": "code",
   "execution_count": 719,
   "id": "a1fb3b88",
   "metadata": {
    "scrolled": false
   },
   "outputs": [
    {
     "data": {
      "image/png": "[encoded data removed]",
      "text/plain": [
       "<Figure size 432x288 with 1 Axes>"
      ]
     },
     "metadata": {
      "needs_background": "light"
     },
     "output_type": "display_data"
    }
   ],
   "source": [
    "# Output the result of this population\n",
    "object_result = []\n",
    "temp = 0\n",
    "while(temp < len(final_population)):\n",
    "    object_result.append(objective_function(final_population[temp]))\n",
    "    temp = temp + 1\n",
    "#print(object_result)\n",
    "px = []\n",
    "py = []\n",
    "temp = 0\n",
    "while(temp < len(final_population)):\n",
    "    px.append(object_result[temp][0])\n",
    "    py.append(object_result[temp][1])\n",
    "    temp = temp + 1\n",
    "\n",
    "def pareto_frontier(Xs, Ys, maxX = True, maxY = True):\n",
    "# Sort the list in either ascending or descending order of X\n",
    "    myList = sorted([[Xs[i], Ys[i]] for i in range(len(Xs))], reverse=maxX)\n",
    "# Start the Pareto frontier with the first value in the sorted list\n",
    "    p_front = [myList[0]]    \n",
    "# Loop through the sorted list\n",
    "    for pair in myList[1:]:\n",
    "        if maxY: \n",
    "            if pair[1] >= p_front[-1][1]: # Look for higher values of Y…\n",
    "                p_front.append(pair) # … and add them to the Pareto frontier\n",
    "        else:\n",
    "            if pair[1] <= p_front[-1][1]: # Look for lower values of Y…\n",
    "                p_front.append(pair) # … and add them to the Pareto frontier\n",
    "# Turn resulting pairs back into a list of Xs and Ys\n",
    "    p_frontX = [pair[0] for pair in p_front]\n",
    "    p_frontY = [pair[1] for pair in p_front]\n",
    "    return p_frontX, p_frontY\n",
    "  \n",
    "Xs = px\n",
    "Ys = py\n",
    "# get your data from somewhere to go here\n",
    "# Find lowest values for cost and highest for savings\n",
    "p_front = pareto_frontier(Xs, Ys, maxX = True, maxY = True) \n",
    "# Plot a scatter graph of all results\n",
    "# plt.scatter(Xs, Ys)\n",
    "# Then plot the Pareto frontier on top\n",
    "# Get true front\n",
    "true_front = []\n",
    "temp = 0\n",
    "while(temp < len(p_front[0])):\n",
    "    true_front.append([p_front[0][temp], p_front[1][temp]])\n",
    "    temp = temp + 1    \n",
    "    \n",
    "\n",
    "plt.scatter(px ,py)\n",
    "plt.plot(p_front[0], p_front[1], color='deepskyblue')\n",
    "plt.xlabel('f1')\n",
    "plt.ylabel('f2')\n",
    "plt.title('Patron front and result')\n",
    "plt.show()\n",
    "\n"
   ]
  },
  {
   "cell_type": "code",
   "execution_count": null,
   "id": "57d73363",
   "metadata": {},
   "outputs": [],
   "source": []
  },
  {
   "cell_type": "code",
   "execution_count": 709,
   "id": "0d8fd199",
   "metadata": {},
   "outputs": [],
   "source": [
    "from sklearn.metrics import euclidean_distances\n",
    "\n",
    "def pareto_optimality(solutions, objectives):\n",
    "   \n",
    "    # Check if each solution is dominated by any other solution\n",
    "    pareto_optimal = np.ones(solutions.shape[0], dtype=bool)\n",
    "    for i, solution in enumerate(solutions):\n",
    "        for j, other_solution in enumerate(solutions):\n",
    "            if (objectives[i] < objectives[j]).all() and (objectives[i] <= objectives[j]).any():\n",
    "                pareto_optimal[i] = False\n",
    "                break\n",
    "    return pareto_optimal\n",
    "\n",
    "import numpy as np\n",
    "\n",
    "def hypervolume(solutions, objectives, reference_point):\n",
    "    \n",
    "    def dominates(x, y):\n",
    "       \n",
    "        dominated = all(x_i <= y_i for x_i, y_i in zip(x, y)) and any(x_i < y_i for x_i, y_i in zip(x, y))\n",
    "        return dominated\n",
    "    \n",
    "    # Initialize the hypervolume to the reference point\n",
    "    hypervolume = np.prod(reference_point)\n",
    "    \n",
    "    # Iterate over the solutions and subtract the volume of the dominated region\n",
    "    for i in range(objectives.shape[0]):\n",
    "        for j in range(i+1, objectives.shape[0]):\n",
    "            if dominates(objectives[i], objectives[j]):\n",
    "                # Calculate the volume of the region dominated by i\n",
    "                volume = np.prod(np.maximum(reference_point - objectives[i], 0))\n",
    "                hypervolume -= volume\n",
    "            elif dominates(objectives[j], objectives[i]):\n",
    "                # Calculate the volume of the region dominated by j\n",
    "                volume = np.prod(np.maximum(reference_point - objectives[j], 0))\n",
    "                hypervolume -= volume\n",
    "    \n",
    "    return hypervolume\n",
    "\n",
    "    \n",
    "def epsilon_indicator(solutions, objectives, reference_point):\n",
    "    \n",
    "    # Calculate the distances between the solutions and the reference point\n",
    "    distances = euclidean_distances(objectives, reference_point.reshape(1, -1))\n",
    "    \n",
    "    # Calculate the epsilon indicator\n",
    "    epsilon = (distances.max(axis=1) - distances.min(axis=1)).sum() / distances.shape[0]\n",
    "    \n",
    "    return epsilon\n",
    "\n",
    "def inverted_generational_distance(solutions, objectives, reference_front):\n",
    "    \n",
    "    # Calculate the distances between the solutions and the reference front\n",
    "    distances = euclidean_distances(objectives, reference_front)\n",
    "    \n",
    "    # Calculate the minimum distance for each solution\n",
    "    min_distances = distances.min(axis=1)\n",
    "    \n",
    "    # Calculate the inverted generational distance\n",
    "    igd = min_distances.sum() / min_distances.shape[0]\n",
    "    \n",
    "    return igd\n",
    "\n",
    "def spacing(solutions, objectives):\n",
    "    \n",
    "    # Calculate the distances between the solutions\n",
    "    distances = euclidean_distances(objectives)\n",
    "    \n",
    "    # Calculate the average distance between each solution and its nearest neighbors\n",
    "    nearest_neighbors = np.sort(distances, axis=1)[:, 1:3]\n",
    "    spacing = nearest_neighbors.mean()\n",
    "    \n",
    "    return spacing\n",
    "\n",
    "def spread(solutions, objectives):\n",
    "    \n",
    "    # Calculate the centroid of the solutions\n",
    "    centroid = objectives.mean(axis=0)\n",
    "    \n",
    "    # Calculate the distances between the solutions and the centroid\n",
    "    distances = euclidean_distances(objectives, centroid.reshape(1, -1))\n",
    "    \n",
    "    # Calculate the spread as the average distance to the centroid\n",
    "    spread = distances.mean()\n",
    "    \n",
    "    return spread\n",
    "\n",
    "def mean_objective_vector_difference(solutions, objectives, reference_front):\n",
    "    \n",
    "    # Calculate the distances between the solutions and the reference front\n",
    "    distances = euclidean_distances(objectives, reference_front)\n",
    "    \n",
    "    # Calculate the minimum distance for each solution\n",
    "    min_distances = distances.min(axis=1)\n",
    "    \n",
    "    # Calculate the mean objective vector difference\n",
    "    movd = min_distances.mean()\n",
    "    \n",
    "    return movd\n",
    "\n",
    "def inverted_generational_distance_plus(solutions, objectives, reference_front):\n",
    "    \n",
    "    # Calculate the distances between the solutions and the reference front\n",
    "    distances = euclidean_distances(objectives, reference_front)\n",
    "    \n",
    "    # Calculate the minimum distance for each solution\n",
    "    min_distances = distances.min(axis=1)\n",
    "    \n",
    "    # Calculate the inverted generational distance plus\n",
    "    igd_plus = min_distances.max()\n",
    "    \n",
    "    return igd_plus\n"
   ]
  },
  {
   "cell_type": "code",
   "execution_count": 710,
   "id": "e3462508",
   "metadata": {},
   "outputs": [],
   "source": [
    "#Evaluation\n",
    "fp = np.array(final_population)\n",
    "ob = np.array(object_result)\n",
    "tf = np.array(true_front)"
   ]
  },
  {
   "cell_type": "code",
   "execution_count": 711,
   "id": "5e6614a5",
   "metadata": {},
   "outputs": [
    {
     "data": {
      "text/plain": [
       "0.12012735270348694"
      ]
     },
     "execution_count": 711,
     "metadata": {},
     "output_type": "execute_result"
    }
   ],
   "source": [
    "mean_objective_vector_difference(fp, ob, tf)"
   ]
  },
  {
   "cell_type": "code",
   "execution_count": 712,
   "id": "8ba6c0a0",
   "metadata": {
    "scrolled": true
   },
   "outputs": [
    {
     "data": {
      "text/plain": [
       "0.888873942033838"
      ]
     },
     "execution_count": 712,
     "metadata": {},
     "output_type": "execute_result"
    }
   ],
   "source": [
    "spacing(fp, ob)"
   ]
  },
  {
   "cell_type": "code",
   "execution_count": 713,
   "id": "4e0f8b39",
   "metadata": {},
   "outputs": [
    {
     "data": {
      "text/plain": [
       "2.441198330926919e+143"
      ]
     },
     "execution_count": 713,
     "metadata": {},
     "output_type": "execute_result"
    }
   ],
   "source": [
    "hypervolume(fp, ob, tf)"
   ]
  },
  {
   "cell_type": "code",
   "execution_count": 714,
   "id": "2ac4881b",
   "metadata": {},
   "outputs": [
    {
     "name": "stdout",
     "output_type": "stream",
     "text": [
      "0.7419354838709677\n"
     ]
    }
   ],
   "source": [
    "rstp = pareto_optimality(fp, ob)\n",
    "temp = 0\n",
    "t = 0\n",
    "while(temp < len(rstp)):\n",
    "    if(rstp[temp] == True):\n",
    "        t = t + 1\n",
    "    temp = temp + 1\n",
    "    \n",
    "print(t / len(pareto_optimality(fp, ob)))"
   ]
  },
  {
   "cell_type": "code",
   "execution_count": 703,
   "id": "8c9bd6d2",
   "metadata": {},
   "outputs": [
    {
     "data": {
      "text/plain": [
       "20.20093804349357"
      ]
     },
     "execution_count": 703,
     "metadata": {},
     "output_type": "execute_result"
    }
   ],
   "source": [
    "spread(fp, ob)"
   ]
  },
  {
   "cell_type": "code",
   "execution_count": 704,
   "id": "d8ce0439",
   "metadata": {},
   "outputs": [
    {
     "data": {
      "text/plain": [
       "0.2596006634578916"
      ]
     },
     "execution_count": 704,
     "metadata": {},
     "output_type": "execute_result"
    }
   ],
   "source": [
    "inverted_generational_distance(fp, ob, tf)"
   ]
  },
  {
   "cell_type": "code",
   "execution_count": 705,
   "id": "7e1c4b56",
   "metadata": {},
   "outputs": [
    {
     "data": {
      "text/plain": [
       "2.1406805309473604"
      ]
     },
     "execution_count": 705,
     "metadata": {},
     "output_type": "execute_result"
    }
   ],
   "source": [
    "inverted_generational_distance_plus(fp, ob, tf)"
   ]
  },
  {
   "cell_type": "code",
   "execution_count": null,
   "id": "a47aaacd",
   "metadata": {},
   "outputs": [],
   "source": []
  },
  {
   "cell_type": "code",
   "execution_count": null,
   "id": "adcf36c9",
   "metadata": {},
   "outputs": [],
   "source": []
  }
 ],
 "metadata": {
  "kernelspec": {
   "display_name": "Python 3 (ipykernel)",
   "language": "python",
   "name": "python3"
  },
  "language_info": {
   "codemirror_mode": {
    "name": "ipython",
    "version": 3
   },
   "file_extension": ".py",
   "mimetype": "text/x-python",
   "name": "python",
   "nbconvert_exporter": "python",
   "pygments_lexer": "ipython3",
   "version": "3.9.7"
  }
 },
 "nbformat": 4,
 "nbformat_minor": 5
}
