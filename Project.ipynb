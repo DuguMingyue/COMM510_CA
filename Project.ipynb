{
 "cells": [
  {
   "cell_type": "code",
   "execution_count": 166,
   "id": "a09c2b87",
   "metadata": {},
   "outputs": [],
   "source": [
    "import numpy as np\n",
    "import matplotlib.pyplot as plt\n",
    "\n",
    "#Maximize f1 and f2\n",
    "def objective_function(x):\n",
    "    # Calculate the objective function values for a given solution x\n",
    "    f1 = x[0]**2 + x[1]**2\n",
    "    f2 = (x[0] - 5)**2 + (x[1] - 5)**2\n",
    "    return (f1, f2)\n",
    "\n",
    "def initialize_population(n, bounds):\n",
    "    # Generate n random solutions within the given bounds\n",
    "    population = []\n",
    "    for i in range(n):\n",
    "        x = np.random.uniform(bounds[0], bounds[1], size=2)\n",
    "        population.append(x)\n",
    "    return population\n",
    "# Function for initial search\n",
    "\n",
    "\n",
    "def evolve(population, bounds, max_evaluations):\n",
    "    # Evolve the population using a multi-objective evolutionary algorithm\n",
    "    num_evaluations = 0\n",
    "    while num_evaluations < max_evaluations:\n",
    "        # Select two parents using tournament selection\n",
    "        parent1 = tournament_selection(population)\n",
    "        parent2 = tournament_selection(population)\n",
    "        \n",
    "        # Perform crossover to produce two offspring\n",
    "        offspring1, offspring2 = crossover(parent1, parent2, bounds)\n",
    "        \n",
    "        # Perform mutation on the offspring\n",
    "        offspring1 = mutate(offspring1, bounds)\n",
    "        offspring2 = mutate(offspring2, bounds)\n",
    "        \n",
    "        # Evaluate the objective function for the offspring\n",
    "        f1, f2 = objective_function(offspring1)\n",
    "        num_evaluations += 1\n",
    "        offspring1_fitness = (f1, f2)\n",
    "        \n",
    "        f1, f2 = objective_function(offspring2)\n",
    "        num_evaluations += 1\n",
    "        offspring2_fitness = (f1, f2)\n",
    "        \n",
    "        # Update the population using non-dominated sorting\n",
    "        population = update_population(population, offspring1, offspring1_fitness, offspring2, offspring2_fitness)\n",
    "        \n",
    "    # Return the final population\n",
    "    return population\n",
    "\n",
    "def tournament_selection(population):\n",
    "    # Select a solution from the population using tournament selection\n",
    "    # (randomly choose two solutions and return the better one)\n",
    "    x1 = population[np.random.randint(len(population))]\n",
    "    x2 = population[np.random.randint(len(population))]\n",
    "    f1, f2 = objective_function(x1)\n",
    "    g1, g2 = objective_function(x2)\n",
    "    if dominates(f1, f2, g1, g2):\n",
    "        return x1\n",
    "    elif dominates(g1, g2, f1, f2):\n",
    "        return x2\n",
    "    else:\n",
    "        return x1 if np.random.uniform() < 0.5 else x2\n",
    "\n",
    "def crossover(x1, x2, bounds):\n",
    "    # Perform crossover to produce two offspring\n",
    "    alpha = np.random.uniform(0, 1, size=2)\n",
    "    offspring1 = alpha*x1 + (1-alpha)*x2\n",
    "    offspring2 = alpha*x2 + (1-alpha)*x1\n",
    "    offspring1 = np.clip(offspring1, bounds[0], bounds[1])\n",
    "    offspring2 = np.clip(offspring2,bounds[0], bounds[1])\n",
    "    return (offspring1, offspring2)\n",
    "\n",
    "def mutate(x, bounds):\n",
    "# Perform mutation on a solution\n",
    "    x = x + np.random.normal(0, 0.1, size=2)\n",
    "    x = np.clip(x, bounds[0], bounds[1])\n",
    "    return x\n",
    "\n",
    "def update_population(population, offspring1, offspring1_fitness, offspring2, offspring2_fitness):\n",
    "    # Update the population using non-dominated sorting\n",
    "    new_population = []\n",
    "    for x in population:\n",
    "        f1, f2 = objective_function(x)\n",
    "        if not dominates(offspring1_fitness[0], offspring1_fitness[1], f1, f2) and not dominates(f1, f2, offspring1_fitness[0], offspring1_fitness[1]):\n",
    "            new_population.append(x)\n",
    "    if not dominates(offspring1_fitness[0], offspring1_fitness[1], offspring2_fitness[0], offspring2_fitness[1]):\n",
    "        new_population.append(offspring1)\n",
    "    if not dominates(offspring2_fitness[0], offspring2_fitness[1], offspring1_fitness[0], offspring1_fitness[1]):\n",
    "        new_population.append(offspring2)\n",
    "    return new_population\n",
    "\n",
    "def dominates(f1, f2, g1, g2):\n",
    "# Check if solution x dominates solution y\n",
    "    return (f1 < g1 and f2 <= g2) or (f1 <= g1 and f2 < g2)\n",
    "\n",
    "# Set the total round of evaluation and evolution\n",
    "num_total = 10000;\n",
    "\n",
    "# Set the number of search better solutions on the initial set\n",
    "num_search = 1000;\n",
    "\n",
    "#Set the number of evaluations for initialization\n",
    "num_evaluations_for_initialization = 1000\n",
    "\n",
    "#Set the bounds for the decision variables\n",
    "bounds = (-10, 10)\n",
    "\n",
    "#Generate the initial population\n",
    "population = initialize_population(1000, bounds)\n",
    "\n",
    "#Evolve the population\n",
    "final_population = evolve(population, bounds, num_evaluations_for_initialization)\n",
    "\n",
    "#Print the final population\n",
    "#print(final_population)\n",
    "\n",
    "#This code defines a MOEA that uses tournament selection, crossover, and mutation to evolve a population of solutions.\n",
    "#The user can specify the number of evaluations to be used for initialization by setting the `num_evaluations_for_initialization` variable. \n",
    "#The initial population is generated using the `initialize_population` function, which generates random solutions within the given bounds. \n",
    "#The MOEA is then run using the `evolve` function, which performs the optimization process and returns the final population of solutions."
   ]
  },
  {
   "cell_type": "code",
   "execution_count": null,
   "id": "90f013c0",
   "metadata": {},
   "outputs": [],
   "source": []
  },
  {
   "cell_type": "code",
   "execution_count": 169,
   "id": "a1fb3b88",
   "metadata": {},
   "outputs": [
    {
     "data": {
      "image/png": "[encoded data removed]",
      "text/plain": [
       "<Figure size 432x288 with 1 Axes>"
      ]
     },
     "metadata": {
      "needs_background": "light"
     },
     "output_type": "display_data"
    }
   ],
   "source": [
    "# Output the result of this population\n",
    "object_result = []\n",
    "temp = 0\n",
    "while(temp < len(final_population)):\n",
    "    object_result.append(objective_function(final_population[temp]))\n",
    "    temp = temp + 1\n",
    "#print(object_result)\n",
    "px = []\n",
    "py = []\n",
    "temp = 0\n",
    "while(temp < len(final_population)):\n",
    "    px.append(object_result[temp][0])\n",
    "    py.append(object_result[temp][1])\n",
    "    temp = temp + 1\n",
    "\n",
    "def pareto_frontier(Xs, Ys, maxX = True, maxY = True):\n",
    "# Sort the list in either ascending or descending order of X\n",
    "    myList = sorted([[Xs[i], Ys[i]] for i in range(len(Xs))], reverse=maxX)\n",
    "# Start the Pareto frontier with the first value in the sorted list\n",
    "    p_front = [myList[0]]    \n",
    "# Loop through the sorted list\n",
    "    for pair in myList[1:]:\n",
    "        if maxY: \n",
    "            if pair[1] >= p_front[-1][1]: # Look for higher values of Y…\n",
    "                p_front.append(pair) # … and add them to the Pareto frontier\n",
    "        else:\n",
    "            if pair[1] <= p_front[-1][1]: # Look for lower values of Y…\n",
    "                p_front.append(pair) # … and add them to the Pareto frontier\n",
    "# Turn resulting pairs back into a list of Xs and Ys\n",
    "    p_frontX = [pair[0] for pair in p_front]\n",
    "    p_frontY = [pair[1] for pair in p_front]\n",
    "    return p_frontX, p_frontY\n",
    "  \n",
    "Xs = px\n",
    "Ys = py\n",
    "# get your data from somewhere to go here\n",
    "# Find lowest values for cost and highest for savings\n",
    "p_front = pareto_frontier(Xs, Ys, maxX = True, maxY = True) \n",
    "# Plot a scatter graph of all results\n",
    "# plt.scatter(Xs, Ys)\n",
    "# Then plot the Pareto frontier on top\n",
    "# Get true front\n",
    "true_front = []\n",
    "temp = 0\n",
    "while(temp < len(p_front[0])):\n",
    "    true_front.append([p_front[0][temp], p_front[1][temp]])\n",
    "    temp = temp + 1    \n",
    "    \n",
    "\n",
    "plt.scatter(px ,py)\n",
    "plt.plot(p_front[0], p_front[1], color='deepskyblue')\n",
    "plt.xlabel('f1')\n",
    "plt.ylabel('f2')\n",
    "plt.title('Patron front and result')\n",
    "plt.show()\n",
    "\n"
   ]
  },
  {
   "cell_type": "code",
   "execution_count": null,
   "id": "a6658ce0",
   "metadata": {},
   "outputs": [],
   "source": []
  },
  {
   "cell_type": "code",
   "execution_count": null,
   "id": "e95d6d70",
   "metadata": {},
   "outputs": [],
   "source": []
  },
  {
   "cell_type": "code",
   "execution_count": null,
   "id": "7c906854",
   "metadata": {},
   "outputs": [],
   "source": []
  },
  {
   "cell_type": "code",
   "execution_count": null,
   "id": "57d73363",
   "metadata": {},
   "outputs": [],
   "source": []
  },
  {
   "cell_type": "code",
   "execution_count": null,
   "id": "0d8fd199",
   "metadata": {},
   "outputs": [],
   "source": [
    "from sklearn.metrics import euclidean_distances\n",
    "\n",
    "def pareto_optimality(solutions, objectives):\n",
    "    \"\"\"\n",
    "    Check if a set of solutions is Pareto optimal.\n",
    "    \n",
    "    Parameters\n",
    "    ----------\n",
    "    solutions : array-like, shape = [n_samples, n_features]\n",
    "        The solutions to check for Pareto optimality.\n",
    "    objectives : array-like, shape = [n_samples, n_objectives]\n",
    "        The objective values for the solutions.\n",
    "        \n",
    "    Returns\n",
    "    -------\n",
    "    pareto_optimal : array-like, shape = [n_samples]\n",
    "        A boolean array indicating which solutions are Pareto optimal.\n",
    "    \"\"\"\n",
    "    # Check if each solution is dominated by any other solution\n",
    "    pareto_optimal = np.ones(solutions.shape[0], dtype=bool)\n",
    "    for i, solution in enumerate(solutions):\n",
    "        for j, other_solution in enumerate(solutions):\n",
    "            if (objectives[i] < objectives[j]).all() and (objectives[i] <= objectives[j]).any():\n",
    "                pareto_optimal[i] = False\n",
    "                break\n",
    "    return pareto_optimal\n",
    "\n",
    "import numpy as np\n",
    "\n",
    "def hypervolume(solutions, objectives, reference_point):\n",
    "    \"\"\"\n",
    "    Calculate the hypervolume of a set of solutions using the \"naive\" approach.\n",
    "    \n",
    "    Parameters\n",
    "    ----------\n",
    "    solutions : array-like, shape = [n_samples, n_features]\n",
    "        The solutions.\n",
    "    objectives : array-like, shape = [n_samples, n_objectives]\n",
    "        The objective values for the solutions.\n",
    "    reference_point : array-like, shape = [n_objectives]\n",
    "        The reference point for the hypervolume calculation.\n",
    "        \n",
    "    Returns\n",
    "    -------\n",
    "    hypervolume : float\n",
    "        The hypervolume of the solutions.\n",
    "    \"\"\"\n",
    "    def dominates(x, y):\n",
    "        \"\"\"\n",
    "        Check whether x dominates y.\n",
    "        \n",
    "        Parameters\n",
    "        ----------\n",
    "        x : array-like, shape = [n_objectives]\n",
    "            The objective values for the first solution.\n",
    "        y : array-like, shape = [n_objectives]\n",
    "            The objective values for the second solution.\n",
    "            \n",
    "        Returns\n",
    "        -------\n",
    "        dominated : bool\n",
    "            True if x dominates y, False otherwise.\n",
    "        \"\"\"\n",
    "        dominated = all(x_i <= y_i for x_i, y_i in zip(x, y)) and any(x_i < y_i for x_i, y_i in zip(x, y))\n",
    "        return dominated\n",
    "    \n",
    "    # Initialize the hypervolume to the reference point\n",
    "    hypervolume = np.prod(reference_point)\n",
    "    \n",
    "    # Iterate over the solutions and subtract the volume of the dominated region\n",
    "    for i in range(objectives.shape[0]):\n",
    "        for j in range(i+1, objectives.shape[0]):\n",
    "            if dominates(objectives[i], objectives[j]):\n",
    "                # Calculate the volume of the region dominated by i\n",
    "                volume = np.prod(np.maximum(reference_point - objectives[i], 0))\n",
    "                hypervolume -= volume\n",
    "            elif dominates(objectives[j], objectives[i]):\n",
    "                # Calculate the volume of the region dominated by j\n",
    "                volume = np.prod(np.maximum(reference_point - objectives[j], 0))\n",
    "                hypervolume -= volume\n",
    "    \n",
    "    return hypervolume\n",
    "\n",
    "    \n",
    "def epsilon_indicator(solutions, objectives, reference_point):\n",
    "    \"\"\"\n",
    "    Calculate the additive epsilon indicator of a set of solutions.\n",
    "    \n",
    "    Parameters\n",
    "    ----------\n",
    "    solutions : array-like, shape = [n_samples, n_features]\n",
    "        The solutions.\n",
    "    objectives : array-like, shape = [n_samples, n_objectives]\n",
    "        The objective values for the solutions.\n",
    "    reference_point : array-like, shape = [n_objectives]\n",
    "        The reference point for the epsilon indicator calculation.\n",
    "        \n",
    "    Returns\n",
    "    -------\n",
    "    epsilon : float\n",
    "        The additive epsilon indicator of the solutions.\n",
    "    \"\"\"\n",
    "    # Calculate the distances between the solutions and the reference point\n",
    "    distances = euclidean_distances(objectives, reference_point.reshape(1, -1))\n",
    "    \n",
    "    # Calculate the epsilon indicator\n",
    "    epsilon = (distances.max(axis=1) - distances.min(axis=1)).sum() / distances.shape[0]\n",
    "    \n",
    "    return epsilon\n",
    "\n",
    "def inverted_generational_distance(solutions, objectives, reference_front):\n",
    "    \"\"\"\n",
    "    Calculate the inverted generational distance of a set of solutions.\n",
    "    \n",
    "    Parameters\n",
    "    ----------\n",
    "    solutions : array-like, shape = [n_samples, n_features]\n",
    "        The solutions.\n",
    "    objectives : array-like, shape = [n_samples, n_objectives]\n",
    "        The objective values for the solutions.\n",
    "    reference_front : array-like, shape = [n_samples, n_objectives]\n",
    "        The reference Pareto optimal front.\n",
    "        \n",
    "    Returns\n",
    "    -------\n",
    "    igd : float\n",
    "        The inverted generational distance of the solutions.\n",
    "    \"\"\"\n",
    "    # Calculate the distances between the solutions and the reference front\n",
    "    distances = euclidean_distances(objectives, reference_front)\n",
    "    \n",
    "    # Calculate the minimum distance for each solution\n",
    "    min_distances = distances.min(axis=1)\n",
    "    \n",
    "    # Calculate the inverted generational distance\n",
    "    igd = min_distances.sum() / min_distances.shape[0]\n",
    "    \n",
    "    return igd\n",
    "\n",
    "def spacing(solutions, objectives):\n",
    "    \"\"\"\n",
    "    Calculate the spacing of a set of solutions.\n",
    "    \n",
    "    Parameters\n",
    "    ----------\n",
    "    solutions : array-like, shape = [n_samples, n_features]\n",
    "        The solutions.\n",
    "    objectives : array-like, shape = [n_samples, n_objectives]\n",
    "        The objective values for the solutions.\n",
    "        \n",
    "    Returns\n",
    "    -------\n",
    "    spacing : float\n",
    "        The spacing of the solutions.\n",
    "    \"\"\"\n",
    "    # Calculate the distances between the solutions\n",
    "    distances = euclidean_distances(objectives)\n",
    "    \n",
    "    # Calculate the average distance between each solution and its nearest neighbors\n",
    "    nearest_neighbors = np.sort(distances, axis=1)[:, 1:3]\n",
    "    spacing = nearest_neighbors.mean()\n",
    "    \n",
    "    return spacing\n",
    "\n",
    "def spread(solutions, objectives):\n",
    "    \"\"\"\n",
    "    Calculate the spread of a set of solutions.\n",
    "    \n",
    "    Parameters\n",
    "    ----------\n",
    "    solutions : array-like, shape = [n_samples, n_features]\n",
    "        The solutions.\n",
    "    objectives : array-like, shape = [n_samples, n_objectives]\n",
    "        The objective values for the solutions.\n",
    "        \n",
    "    Returns\n",
    "    -------\n",
    "    spread : float\n",
    "        The spread of the solutions.\n",
    "    \"\"\"\n",
    "    # Calculate the centroid of the solutions\n",
    "    centroid = objectives.mean(axis=0)\n",
    "    \n",
    "    # Calculate the distances between the solutions and the centroid\n",
    "    distances = euclidean_distances(objectives, centroid.reshape(1, -1))\n",
    "    \n",
    "    # Calculate the spread as the average distance to the centroid\n",
    "    spread = distances.mean()\n",
    "    \n",
    "    return spread\n",
    "\n",
    "def mean_objective_vector_difference(solutions, objectives, reference_front):\n",
    "    \"\"\"\n",
    "    Calculate the mean objective vector difference of a set of solutions.\n",
    "    \n",
    "    Parameters\n",
    "    ----------\n",
    "    solutions : array-like, shape = [n_samples, n_features]\n",
    "        The solutions.\n",
    "    objectives : array-like, shape = [n_samples, n_objectives]\n",
    "        The objective values for the solutions.\n",
    "    reference_front : array-like, shape = [n_samples, n_objectives]\n",
    "        The reference Pareto optimal front.\n",
    "        \n",
    "    Returns\n",
    "    -------\n",
    "    movd : float\n",
    "        The mean objective vector difference of the solutions.\n",
    "    \"\"\"\n",
    "    # Calculate the distances between the solutions and the reference front\n",
    "    distances = euclidean_distances(objectives, reference_front)\n",
    "    \n",
    "    # Calculate the minimum distance for each solution\n",
    "    min_distances = distances.min(axis=1)\n",
    "    \n",
    "    # Calculate the mean objective vector difference\n",
    "    movd = min_distances.mean()\n",
    "    \n",
    "    return movd\n",
    "\n",
    "def inverted_generational_distance_plus(solutions, objectives, reference_front):\n",
    "    \"\"\"\n",
    "    Calculate the inverted generational distance plus of a set of solutions.\n",
    "    \n",
    "    Parameters\n",
    "    ----------\n",
    "    solutions : array-like, shape = [n_samples, n_features]\n",
    "        The solutions.\n",
    "    objectives : array-like, shape = [n_samples, n_objectives]\n",
    "        The objective values for the solutions.\n",
    "    reference_front : array-like, shape = [n_samples, n_objectives]\n",
    "        The reference Pareto optimal front.\n",
    "        \n",
    "    Returns\n",
    "    -------\n",
    "    igd_plus : float\n",
    "        The inverted generational distance plus of the solutions.\n",
    "    \"\"\"\n",
    "    # Calculate the distances between the solutions and the reference front\n",
    "    distances = euclidean_distances(objectives, reference_front)\n",
    "    \n",
    "    # Calculate the minimum distance for each solution\n",
    "    min_distances = distances.min(axis=1)\n",
    "    \n",
    "    # Calculate the inverted generational distance plus\n",
    "    igd_plus = min_distances.max()\n",
    "    \n",
    "    return igd_plus\n"
   ]
  },
  {
   "cell_type": "code",
   "execution_count": 155,
   "id": "e3462508",
   "metadata": {},
   "outputs": [],
   "source": [
    "#Evaluation\n",
    "fp = np.array(final_population)\n",
    "ob = np.array(object_result)\n",
    "tf = np.array(true_front)"
   ]
  },
  {
   "cell_type": "code",
   "execution_count": 156,
   "id": "5e6614a5",
   "metadata": {},
   "outputs": [
    {
     "data": {
      "text/plain": [
       "0.0877780473477342"
      ]
     },
     "execution_count": 156,
     "metadata": {},
     "output_type": "execute_result"
    }
   ],
   "source": [
    "mean_objective_vector_difference(fp, ob, tf)"
   ]
  },
  {
   "cell_type": "code",
   "execution_count": 157,
   "id": "8ba6c0a0",
   "metadata": {},
   "outputs": [
    {
     "data": {
      "text/plain": [
       "0.7324776944029961"
      ]
     },
     "execution_count": 157,
     "metadata": {},
     "output_type": "execute_result"
    }
   ],
   "source": [
    "spacing(fp, ob)"
   ]
  },
  {
   "cell_type": "code",
   "execution_count": 158,
   "id": "4e0f8b39",
   "metadata": {},
   "outputs": [
    {
     "data": {
      "text/plain": [
       "2.1373025249880285e+161"
      ]
     },
     "execution_count": 158,
     "metadata": {},
     "output_type": "execute_result"
    }
   ],
   "source": [
    "hypervolume(fp, ob, tf)"
   ]
  },
  {
   "cell_type": "code",
   "execution_count": 159,
   "id": "2ac4881b",
   "metadata": {},
   "outputs": [
    {
     "data": {
      "text/plain": [
       "array([ True,  True,  True,  True,  True,  True,  True,  True,  True,\n",
       "        True,  True,  True, False, False,  True,  True,  True,  True,\n",
       "       False,  True,  True, False, False,  True, False,  True,  True,\n",
       "        True,  True,  True,  True,  True, False, False, False,  True,\n",
       "        True,  True,  True,  True,  True, False,  True,  True,  True,\n",
       "        True, False,  True,  True,  True, False,  True,  True,  True,\n",
       "        True,  True,  True,  True,  True,  True,  True,  True,  True,\n",
       "        True, False,  True, False,  True,  True,  True,  True,  True,\n",
       "        True,  True,  True,  True,  True,  True,  True,  True,  True,\n",
       "        True,  True,  True,  True, False,  True,  True,  True,  True,\n",
       "        True, False,  True, False,  True,  True, False, False,  True,\n",
       "       False,  True,  True,  True,  True,  True,  True,  True,  True,\n",
       "        True,  True,  True,  True,  True,  True,  True,  True,  True])"
      ]
     },
     "execution_count": 159,
     "metadata": {},
     "output_type": "execute_result"
    }
   ],
   "source": [
    "pareto_optimality(fp, ob)"
   ]
  },
  {
   "cell_type": "code",
   "execution_count": null,
   "id": "d0b24d67",
   "metadata": {},
   "outputs": [],
   "source": []
  },
  {
   "cell_type": "code",
   "execution_count": 160,
   "id": "8c9bd6d2",
   "metadata": {},
   "outputs": [
    {
     "data": {
      "text/plain": [
       "17.71037092154503"
      ]
     },
     "execution_count": 160,
     "metadata": {},
     "output_type": "execute_result"
    }
   ],
   "source": [
    "spread(fp, ob)"
   ]
  },
  {
   "cell_type": "code",
   "execution_count": 161,
   "id": "96e1f330",
   "metadata": {},
   "outputs": [
    {
     "data": {
      "text/plain": [
       "0.7324776944029961"
      ]
     },
     "execution_count": 161,
     "metadata": {},
     "output_type": "execute_result"
    }
   ],
   "source": [
    "spacing(fp, ob)"
   ]
  },
  {
   "cell_type": "code",
   "execution_count": 162,
   "id": "d8ce0439",
   "metadata": {},
   "outputs": [
    {
     "data": {
      "text/plain": [
       "0.0877780473477342"
      ]
     },
     "execution_count": 162,
     "metadata": {},
     "output_type": "execute_result"
    }
   ],
   "source": [
    "inverted_generational_distance(fp, ob, tf)"
   ]
  },
  {
   "cell_type": "code",
   "execution_count": 163,
   "id": "7e1c4b56",
   "metadata": {},
   "outputs": [
    {
     "data": {
      "text/plain": [
       "5.206596246535045"
      ]
     },
     "execution_count": 163,
     "metadata": {},
     "output_type": "execute_result"
    }
   ],
   "source": [
    "inverted_generational_distance_plus(fp, ob, tf)"
   ]
  },
  {
   "cell_type": "code",
   "execution_count": null,
   "id": "07c832a2",
   "metadata": {},
   "outputs": [],
   "source": []
  },
  {
   "cell_type": "code",
   "execution_count": null,
   "id": "a47aaacd",
   "metadata": {},
   "outputs": [],
   "source": []
  }
 ],
 "metadata": {
  "kernelspec": {
   "display_name": "Python 3 (ipykernel)",
   "language": "python",
   "name": "python3"
  },
  "language_info": {
   "codemirror_mode": {
    "name": "ipython",
    "version": 3
   },
   "file_extension": ".py",
   "mimetype": "text/x-python",
   "name": "python",
   "nbconvert_exporter": "python",
   "pygments_lexer": "ipython3",
   "version": "3.9.7"
  }
 },
 "nbformat": 4,
 "nbformat_minor": 5
}
